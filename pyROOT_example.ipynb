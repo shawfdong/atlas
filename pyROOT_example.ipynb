{
 "cells": [
  {
   "cell_type": "markdown",
   "metadata": {},
   "source": [
    "# pyROOT example"
   ]
  },
  {
   "cell_type": "markdown",
   "metadata": {},
   "source": [
    "This pyROOT exmaple is based upon the [ATLAS tutorial exaple for SLAC Tier3](https://usatlas.github.io/tier3docs/Tutorial-2019Aug/SLAC/), which was orginally written in C++ by Shuwei Ye of BNL."
   ]
  },
  {
   "cell_type": "markdown",
   "metadata": {},
   "source": [
    "## Login to SLAC centos7 public login host\n",
    "\n",
    "```\n",
    "ssh centos7.slac.stanford.edu\n",
    "```"
   ]
  },
  {
   "cell_type": "markdown",
   "metadata": {},
   "source": [
    "## Set up the environment\n",
    "\n",
    "```\n",
    "export ATLAS_LOCAL_ROOT_BASE=/cvmfs/atlas.cern.ch/repo/ATLASLocalRootBase\n",
    "source $ATLAS_LOCAL_ROOT_BASE/user/atlasLocalSetup.sh\n",
    "asetup AnalysisBase,21.2.111\n",
    "export PATH=$HOME/.local/bin:$PATH\n",
    "```"
   ]
  },
  {
   "cell_type": "markdown",
   "metadata": {},
   "source": [
    "## Install Jupyter locally\n",
    "\n",
    "Unfortunately, ATLAS Analysis Releases do not include Jupyter yet. Until they fix it, a workaround is to install Jupyter locally (in your home directories) by running the following commands:\n",
    "\n",
    "```\n",
    "pip install --upgrade argparse pysqlite --user\n",
    "pip install jupyter metakernel zmq --user\n",
    "```\n",
    "\n",
    "**Note** this is a one-time setup."
   ]
  },
  {
   "cell_type": "markdown",
   "metadata": {},
   "source": [
    "## Start Jupyter Notebook\n",
    "\n",
    "Start Jupyter Notebook on centos7:\n",
    "\n",
    "```\n",
    "jupyter notebook\n",
    "```\n",
    "\n",
    "And look for string like `http://localhost:8888/?token=e2fdde186fa4d522d568c93d33b2785ee84ed2eef0971017` in the ouput. In this case, 8888 is the port Jupyter is listening on. 8888 is the also the default port for Jupyter; but if more than 1 user are running Jupyter at the same time, Jupyter may pick another port for you.\n",
    "\n",
    "You need to forward port 8888 on centos7 to your local computer. You can use *SSH Escape Sequences* to enable port forwarding in your *existing* SSH session. Press the `Enter` key (to make sure the escape character is at the beginning of a line), then type `~C` (tilde and capital C) to open a command line (started with the prompt `ssh>`), then specify the port forwarding, e.g.:\n",
    "\n",
    "```\n",
    "ssh> -L localhost:8888:localhost:8888\n",
    "```\n",
    "\n",
    "Now you are ready to load the URL (e.g., `http://localhost:8888/?token=e2fdde186fa4d522d568c93d33b2785ee84ed2eef0971017`) in a browser on your local computer!"
   ]
  },
  {
   "cell_type": "code",
   "execution_count": 1,
   "metadata": {},
   "outputs": [
    {
     "name": "stdout",
     "output_type": "stream",
     "text": [
      "Welcome to JupyROOT 6.16/00\n"
     ]
    }
   ],
   "source": [
    "# Set up ROOT and RootCore\n",
    "import ROOT"
   ]
  },
  {
   "cell_type": "code",
   "execution_count": 2,
   "metadata": {},
   "outputs": [
    {
     "data": {
      "text/plain": [
       "<ROOT.xAOD::TReturnCode object at 0x660ec00>"
      ]
     },
     "execution_count": 2,
     "metadata": {},
     "output_type": "execute_result"
    },
    {
     "name": "stdout",
     "output_type": "stream",
     "text": [
      "xAOD::Init                INFO    Environment initialised for data access\n"
     ]
    }
   ],
   "source": [
    "# Initialize the xAOD infrastructure\n",
    "ROOT.xAOD.Init()"
   ]
  },
  {
   "cell_type": "code",
   "execution_count": 3,
   "metadata": {},
   "outputs": [],
   "source": [
    "# Set up the input files\n",
    "fileName = 'root://atlrdr1//xrootd/atlas/atlaslocalgroupdisk/rucio/data16_13TeV/f9/bd/DAOD_SUSY15.11525262._000003.pool.root.1'\n",
    "treeName = 'CollectionTree'\n",
    "f = ROOT.TFile.Open(fileName)"
   ]
  },
  {
   "cell_type": "code",
   "execution_count": 4,
   "metadata": {},
   "outputs": [
    {
     "name": "stdout",
     "output_type": "stream",
     "text": [
      "xAOD::MakeTransientTree   INFO    Created transient tree \"CollectionTree\" in ROOT's common memory\n"
     ]
    }
   ],
   "source": [
    "# Make the \"transient tree\"\n",
    "t = ROOT.xAOD.MakeTransientTree(f, treeName)"
   ]
  },
  {
   "cell_type": "code",
   "execution_count": 5,
   "metadata": {},
   "outputs": [],
   "source": [
    "# Open TFile to store the analysis histogram output\n",
    "fout = ROOT.TFile(\"pyROOTOutputFile.root\",\"recreate\")\n",
    "\n",
    "# Make histograms for storage\n",
    "h_njets_raw = ROOT.TH1D(\"h_njets_raw\",\"\",20,0,20)\n",
    "h_mjj_raw = ROOT.TH1D(\"h_mjj_raw\",\"\",100,0,500)"
   ]
  },
  {
   "cell_type": "code",
   "execution_count": 6,
   "metadata": {},
   "outputs": [
    {
     "name": "stdout",
     "output_type": "stream",
     "text": [
      "Number of input events: 855\n"
     ]
    }
   ],
   "source": [
    "# Print some information\n",
    "print('Number of input events: %s' % t.GetEntries())"
   ]
  },
  {
   "cell_type": "code",
   "execution_count": 7,
   "metadata": {},
   "outputs": [
    {
     "name": "stdout",
     "output_type": "stream",
     "text": [
      "Processing entry #1, run #311481, event #2799269119\n",
      "Jet : 468979.031250 -0.903113 -1.338824 21535.863281\n",
      "Jet : 338129.406250 -1.397199 1.899061 25507.771484\n",
      "Jet : 34020.144531 0.266506 1.634250 5874.876465\n",
      "Jet : 20760.699219 -1.918634 1.793700 4058.307373\n",
      "Jet : 12562.199219 -2.199457 -1.570707 2341.375000\n",
      "Jet : 6962.007324 -0.831885 1.312302 1536.696411\n",
      "Processing entry #101, run #311481, event #2810933683\n",
      "Jet : 277991.718750 2.747532 0.437236 -0.031311\n",
      "Jet : 96786.906250 0.414741 -2.691716 14359.251953\n",
      "Jet : 5324.694336 3.453864 2.134077 0.000000\n",
      "Processing entry #201, run #311481, event #3020641387\n",
      "Jet : 106057.804688 -0.651156 -1.015127 8673.697266\n",
      "Jet : 42092.828125 0.094121 0.330564 4003.670166\n",
      "Jet : 31360.287109 -0.533367 -1.615798 4897.545898\n",
      "Jet : 28205.761719 1.478483 -0.483636 4177.464844\n",
      "Jet : 11727.797852 -1.089316 1.468481 2243.973633\n",
      "Jet : 7993.039062 0.953590 0.566631 1193.087769\n",
      "Jet : 7598.682129 2.214137 -1.919347 1481.385742\n",
      "Jet : 6116.664551 2.699726 0.451797 815.955566\n",
      "Processing entry #301, run #311481, event #3387915093\n",
      "Jet : 199951.296875 0.958407 -0.547206 8938.172852\n",
      "Jet : 130627.312500 0.512991 2.575687 18347.779297\n",
      "Jet : 33337.582031 0.886516 2.407483 2454.601318\n",
      "Jet : 6816.481445 1.519084 -2.897314 1653.774780\n",
      "Jet : 6452.448242 -2.639320 2.017364 1011.303589\n",
      "Jet : 6270.530762 -1.784002 -2.713380 1200.507935\n",
      "Jet : 5767.747070 1.002193 -1.154076 1238.396118\n",
      "Processing entry #401, run #311481, event #3387502418\n",
      "Jet : 140155.750000 1.960782 2.859744 11683.436523\n",
      "Jet : 48992.859375 0.996981 -0.160345 2938.107178\n",
      "Jet : 19792.742188 2.482241 -3.033806 2838.817627\n",
      "Jet : 19316.054688 -1.845799 -1.044455 3959.796875\n",
      "Jet : 9274.228516 -2.748090 2.907587 1586.616577\n",
      "Jet : 6052.047852 1.516817 2.819988 881.521484\n",
      "Jet : 5802.440918 3.597437 -0.417200 0.001965\n",
      "Jet : 5321.353516 -2.126011 0.088326 786.158020\n",
      "Jet : 5215.491211 -3.039522 -1.573201 0.000000\n",
      "Processing entry #501, run #311481, event #3384695613\n",
      "Jet : 182450.781250 2.412232 -3.106191 6144.901855\n",
      "Jet : 143242.203125 0.045577 -0.100684 11753.403320\n",
      "Jet : 21695.634766 2.941670 -2.751326 2867.356934\n",
      "Jet : 9354.810547 1.176584 1.237301 615.383484\n",
      "Processing entry #601, run #311481, event #3022268209\n",
      "Jet : 424206.562500 0.537474 -0.454508 24265.281250\n",
      "Jet : 299388.875000 -1.205653 2.922760 22183.287109\n",
      "Jet : 52635.574219 -1.542431 2.528037 5904.666504\n",
      "Jet : 20974.804688 4.293081 1.549662 3409.202393\n",
      "Jet : 18756.050781 -0.971826 -0.215419 4133.479980\n",
      "Jet : 6054.533691 4.639655 1.372139 1103.686523\n",
      "Jet : 5562.180664 -1.115943 2.388304 730.791016\n",
      "Jet : 5434.613281 -3.369835 2.874324 0.000892\n",
      "Jet : 5170.458008 0.241107 2.074575 1068.159912\n",
      "Processing entry #701, run #311481, event #2857262799\n",
      "Jet : 289890.250000 -1.876474 -1.348435 29358.501953\n",
      "Jet : 266760.687500 0.535287 1.776511 15527.270508\n",
      "Jet : 20134.695312 -1.152746 1.164541 3745.704834\n",
      "Jet : 7648.937500 -0.068100 1.920835 1290.791870\n",
      "Jet : 7544.738281 -0.827795 -2.786844 949.553589\n",
      "Jet : 6693.194336 0.564270 1.010840 1760.218018\n",
      "Jet : 5829.460449 0.327048 -0.383061 696.566162\n",
      "Processing entry #801, run #311481, event #2798968267\n",
      "Jet : 144341.578125 0.041206 1.997264 18966.753906\n",
      "Jet : 47951.691406 0.354591 -1.053158 5774.209961\n",
      "Jet : 10983.584961 -1.982280 2.214170 2367.472900\n",
      "Jet : 10791.235352 -1.108218 -2.564551 1611.658936\n",
      "Jet : 7825.783691 0.577903 1.487257 1772.963867\n",
      "Jet : 5167.198242 0.550710 -0.403762 1175.607056\n"
     ]
    }
   ],
   "source": [
    "for entry in xrange(t.GetEntries()):\n",
    "    t.GetEntry(entry)\n",
    "    if entry % 100 == 0:\n",
    "        s = 'Processing entry #%i, run #%i, event #%i' % (entry+1, t.EventInfo.runNumber(), t.EventInfo.eventNumber())\n",
    "        print(s)\n",
    "\n",
    "    jets_raw = []\n",
    "    for jet in t.AntiKt4EMTopoJets:\n",
    "        if entry % 100 == 0:\n",
    "            s = 'Jet : %f %f %f %f' % (jet.pt(), jet.eta(), jet.phi(), jet.m())\n",
    "            print(s)\n",
    "        jets_raw.append(jet)\n",
    "\n",
    "    # Fill the analysis histograms accordingly\n",
    "    h_njets_raw.Fill( len(jets_raw) );\n",
    "\n",
    "    if len(jets_raw) >= 2:\n",
    "        h_mjj_raw.Fill( (jets_raw[0].p4()+jets_raw[1].p4()).M()/1000. );"
   ]
  },
  {
   "cell_type": "code",
   "execution_count": 8,
   "metadata": {},
   "outputs": [],
   "source": [
    "# Save the output file\n",
    "fout.Write()\n",
    "fout.Close()"
   ]
  },
  {
   "cell_type": "code",
   "execution_count": 9,
   "metadata": {},
   "outputs": [],
   "source": [
    "# Read the output file\n",
    "fout = ROOT.TFile(\"pyROOTOutputFile.root\",\"read\")\n",
    "h_mjj_raw = fout.Get('h_mjj_raw')"
   ]
  },
  {
   "cell_type": "code",
   "execution_count": 10,
   "metadata": {},
   "outputs": [
    {
     "data": {
      "text/html": [
       "\n",
       "<div id=\"root_plot_1\"\n",
       "     style=\"width: 796px; height: 572px\">\n",
       "</div>\n",
       "\n",
       "<script>\n",
       " requirejs.config({\n",
       "     paths: {\n",
       "       'JSRootCore' : 'https://root.cern.ch/js/notebook//scripts/JSRootCore',\n",
       "     }\n",
       "   });\n",
       " require(['JSRootCore'],\n",
       "     function(Core) {\n",
       "       var obj = Core.JSONR_unref({\"_typename\":\"TCanvas\",\"fUniqueID\":0,\"fBits\":53673992,\"fLineColor\":1,\"fLineStyle\":1,\"fLineWidth\":1,\"fFillColor\":0,\"fFillStyle\":1001,\"fLeftMargin\":0.1,\"fRightMargin\":0.1,\"fBottomMargin\":0.1,\"fTopMargin\":0.1,\"fXfile\":2,\"fYfile\":2,\"fAfile\":1,\"fXstat\":0.99,\"fYstat\":0.99,\"fAstat\":2,\"fFrameFillColor\":0,\"fFrameLineColor\":1,\"fFrameFillStyle\":1001,\"fFrameLineStyle\":1,\"fFrameLineWidth\":1,\"fFrameBorderSize\":1,\"fFrameBorderMode\":0,\"fX1\":-62.5000046566132,\"fY1\":-3.1500002346933,\"fX2\":562.500004656613,\"fY2\":28.3500002346933,\"fXtoAbsPixelk\":79.60005474453,\"fXtoPixelk\":79.60005474453,\"fXtoPixel\":1.27359998102188,\"fYtoAbsPixelk\":514.800046590614,\"fYtoPixelk\":514.800046590614,\"fYtoPixel\":-18.158729888144,\"fUtoAbsPixelk\":5e-5,\"fUtoPixelk\":5e-5,\"fUtoPixel\":796,\"fVtoAbsPixelk\":572.00005,\"fVtoPixelk\":572,\"fVtoPixel\":-572,\"fAbsPixeltoXk\":-62.5000046566132,\"fPixeltoXk\":-62.5000046566132,\"fPixeltoX\":0.785175891097018,\"fAbsPixeltoYk\":28.3500002346933,\"fPixeltoYk\":-3.1500002346933,\"fPixeltoY\":-0.055069930890536,\"fXlowNDC\":0,\"fYlowNDC\":0,\"fXUpNDC\":0,\"fYUpNDC\":0,\"fWNDC\":1,\"fHNDC\":1,\"fAbsXlowNDC\":0,\"fAbsYlowNDC\":0,\"fAbsWNDC\":1,\"fAbsHNDC\":1,\"fUxmin\":0,\"fUymin\":0,\"fUxmax\":500,\"fUymax\":25.2,\"fTheta\":30,\"fPhi\":30,\"fAspectRatio\":0,\"fNumber\":0,\"fTickx\":0,\"fTicky\":0,\"fLogx\":0,\"fLogy\":0,\"fLogz\":0,\"fPadPaint\":0,\"fCrosshair\":0,\"fCrosshairPos\":0,\"fBorderSize\":2,\"fBorderMode\":0,\"fModified\":false,\"fGridx\":false,\"fGridy\":false,\"fAbsCoord\":false,\"fEditable\":true,\"fFixedAspectRatio\":false,\"fPrimitives\":{\"_typename\":\"TList\",\"name\":\"TList\",\"arr\":[{\"_typename\":\"TFrame\",\"fUniqueID\":0,\"fBits\":50331656,\"fLineColor\":1,\"fLineStyle\":1,\"fLineWidth\":1,\"fFillColor\":0,\"fFillStyle\":1001,\"fX1\":0,\"fY1\":0,\"fX2\":500,\"fY2\":25.2,\"fBorderSize\":1,\"fBorderMode\":0},{\"_typename\":\"TH1D\",\"fUniqueID\":0,\"fBits\":50331656,\"fName\":\"h_mjj_raw\",\"fTitle\":\"\",\"fLineColor\":602,\"fLineStyle\":1,\"fLineWidth\":1,\"fFillColor\":0,\"fFillStyle\":1001,\"fMarkerColor\":1,\"fMarkerStyle\":1,\"fMarkerSize\":1,\"fNcells\":102,\"fXaxis\":{\"_typename\":\"TAxis\",\"fUniqueID\":0,\"fBits\":50331648,\"fName\":\"xaxis\",\"fTitle\":\"\",\"fNdivisions\":510,\"fAxisColor\":1,\"fLabelColor\":1,\"fLabelFont\":42,\"fLabelOffset\":0.005,\"fLabelSize\":0.035,\"fTickLength\":0.03,\"fTitleOffset\":1,\"fTitleSize\":0.035,\"fTitleColor\":1,\"fTitleFont\":42,\"fNbins\":100,\"fXmin\":0,\"fXmax\":500,\"fXbins\":[],\"fFirst\":0,\"fLast\":0,\"fBits2\":0,\"fTimeDisplay\":false,\"fTimeFormat\":\"\",\"fLabels\":null,\"fModLabs\":null},\"fYaxis\":{\"_typename\":\"TAxis\",\"fUniqueID\":0,\"fBits\":50331648,\"fName\":\"yaxis\",\"fTitle\":\"\",\"fNdivisions\":510,\"fAxisColor\":1,\"fLabelColor\":1,\"fLabelFont\":42,\"fLabelOffset\":0.005,\"fLabelSize\":0.035,\"fTickLength\":0.03,\"fTitleOffset\":0,\"fTitleSize\":0.035,\"fTitleColor\":1,\"fTitleFont\":42,\"fNbins\":1,\"fXmin\":0,\"fXmax\":1,\"fXbins\":[],\"fFirst\":0,\"fLast\":0,\"fBits2\":0,\"fTimeDisplay\":false,\"fTimeFormat\":\"\",\"fLabels\":null,\"fModLabs\":null},\"fZaxis\":{\"_typename\":\"TAxis\",\"fUniqueID\":0,\"fBits\":50331648,\"fName\":\"zaxis\",\"fTitle\":\"\",\"fNdivisions\":510,\"fAxisColor\":1,\"fLabelColor\":1,\"fLabelFont\":42,\"fLabelOffset\":0.005,\"fLabelSize\":0.035,\"fTickLength\":0.03,\"fTitleOffset\":1,\"fTitleSize\":0.035,\"fTitleColor\":1,\"fTitleFont\":42,\"fNbins\":1,\"fXmin\":0,\"fXmax\":1,\"fXbins\":[],\"fFirst\":0,\"fLast\":0,\"fBits2\":0,\"fTimeDisplay\":false,\"fTimeFormat\":\"\",\"fLabels\":null,\"fModLabs\":null},\"fBarOffset\":0,\"fBarWidth\":1000,\"fEntries\":826,\"fTsumw\":583,\"fTsumw2\":583,\"fTsumwx\":113354.62341723,\"fTsumwx2\":33507859.5808929,\"fMaximum\":-1111,\"fMinimum\":-1111,\"fNormFactor\":0,\"fContour\":[],\"fSumw2\":[],\"fOption\":\"\",\"fFunctions\":{\"_typename\":\"TList\",\"name\":\"TList\",\"arr\":[{\"_typename\":\"TPaveStats\",\"fUniqueID\":0,\"fBits\":50331657,\"fLineColor\":1,\"fLineStyle\":1,\"fLineWidth\":1,\"fFillColor\":0,\"fFillStyle\":1001,\"fX1\":425.000012665987,\"fY1\":21.262500316836,\"fX2\":550.000016391278,\"fY2\":26.302500279285,\"fX1NDC\":0.780000016093254,\"fY1NDC\":0.775000005960464,\"fX2NDC\":0.980000019073486,\"fY2NDC\":0.935000002384186,\"fBorderSize\":1,\"fInit\":1,\"fShadowColor\":1,\"fCornerRadius\":0,\"fOption\":\"brNDC\",\"fName\":\"stats\",\"fTextAngle\":0,\"fTextSize\":0,\"fTextAlign\":12,\"fTextColor\":1,\"fTextFont\":42,\"fLabel\":\"\",\"fLongest\":18,\"fMargin\":0.05,\"fLines\":{\"_typename\":\"TList\",\"name\":\"TList\",\"arr\":[{\"_typename\":\"TLatex\",\"fUniqueID\":0,\"fBits\":50331648,\"fName\":\"\",\"fTitle\":\"h_mjj_raw\",\"fTextAngle\":0,\"fTextSize\":0.0368,\"fTextAlign\":0,\"fTextColor\":0,\"fTextFont\":0,\"fX\":0,\"fY\":0,\"fLineColor\":1,\"fLineStyle\":1,\"fLineWidth\":2,\"fLimitFactorSize\":3,\"fOriginSize\":0.0368000008165836},{\"_typename\":\"TLatex\",\"fUniqueID\":0,\"fBits\":50331648,\"fName\":\"\",\"fTitle\":\"Entries = 826    \",\"fTextAngle\":0,\"fTextSize\":0,\"fTextAlign\":0,\"fTextColor\":0,\"fTextFont\":0,\"fX\":0,\"fY\":0,\"fLineColor\":1,\"fLineStyle\":1,\"fLineWidth\":2,\"fLimitFactorSize\":3,\"fOriginSize\":0.04},{\"_typename\":\"TLatex\",\"fUniqueID\":0,\"fBits\":50331648,\"fName\":\"\",\"fTitle\":\"Mean  =  194.4\",\"fTextAngle\":0,\"fTextSize\":0,\"fTextAlign\":0,\"fTextColor\":0,\"fTextFont\":0,\"fX\":0,\"fY\":0,\"fLineColor\":1,\"fLineStyle\":1,\"fLineWidth\":2,\"fLimitFactorSize\":3,\"fOriginSize\":0.04},{\"_typename\":\"TLatex\",\"fUniqueID\":0,\"fBits\":50331648,\"fName\":\"\",\"fTitle\":\"Std Dev   =  140.3\",\"fTextAngle\":0,\"fTextSize\":0,\"fTextAlign\":0,\"fTextColor\":0,\"fTextFont\":0,\"fX\":0,\"fY\":0,\"fLineColor\":1,\"fLineStyle\":1,\"fLineWidth\":2,\"fLimitFactorSize\":3,\"fOriginSize\":0.04}],\"opt\":[\"\",\"\",\"\",\"\"]},\"fOptFit\":0,\"fOptStat\":1111,\"fFitFormat\":\"5.4g\",\"fStatFormat\":\"6.4g\",\"fParent\":{\"$ref\":3}}],\"opt\":[\"brNDC\"]},\"fBufferSize\":0,\"fBuffer\":[],\"fBinStatErrOpt\":0,\"fStatOverflows\":2,\"fArray\":[0,0,9,15,24,13,17,7,20,13,6,10,6,6,9,11,13,6,8,3,12,3,6,3,2,3,7,6,4,11,6,4,2,5,4,10,6,7,10,5,6,4,6,4,8,5,10,5,4,5,3,7,6,9,10,3,5,4,7,4,4,3,3,13,3,4,8,3,9,7,7,3,4,2,5,4,2,2,3,3,2,5,5,0,3,3,7,6,3,1,1,3,2,2,2,3,4,3,3,3,3,243]}],\"opt\":[\"\",\"\"]},\"fExecs\":null,\"fName\":\"Canvas 1\",\"fTitle\":\"Canvas 1\",\"fNumPaletteColor\":0,\"fNextPaletteColor\":0,\"fDISPLAY\":\"$DISPLAY\",\"fDoubleBuffer\":0,\"fRetained\":true,\"fXsizeUser\":0,\"fYsizeUser\":0,\"fXsizeReal\":20,\"fYsizeReal\":15,\"fWindowTopX\":0,\"fWindowTopY\":0,\"fWindowWidth\":0,\"fWindowHeight\":0,\"fCw\":796,\"fCh\":572,\"fCatt\":{\"_typename\":\"TAttCanvas\",\"fXBetween\":2,\"fYBetween\":2,\"fTitleFromTop\":1.2,\"fXdate\":0.2,\"fYdate\":0.3,\"fAdate\":1},\"kMoveOpaque\":true,\"kResizeOpaque\":true,\"fHighLightColor\":2,\"fBatch\":true,\"kShowEventStatus\":false,\"kAutoExec\":true,\"kMenuBar\":true});\n",
       "       Core.draw(\"root_plot_1\", obj, \"\");\n",
       "     }\n",
       " );\n",
       "</script>\n"
      ],
      "text/plain": [
       "<IPython.core.display.HTML object>"
      ]
     },
     "metadata": {},
     "output_type": "display_data"
    }
   ],
   "source": [
    "# Display the histogram\n",
    "%jsroot on\n",
    "c = ROOT.TCanvas(\"Canvas 1\",\"Canvas 1\",800,600)\n",
    "h_mjj_raw.Draw()\n",
    "c.Draw()"
   ]
  },
  {
   "cell_type": "code",
   "execution_count": 11,
   "metadata": {},
   "outputs": [],
   "source": [
    "fout.Close()"
   ]
  }
 ],
 "metadata": {
  "kernelspec": {
   "display_name": "Python 2",
   "language": "python",
   "name": "python2"
  },
  "language_info": {
   "codemirror_mode": {
    "name": "ipython",
    "version": 2
   },
   "file_extension": ".py",
   "mimetype": "text/x-python",
   "name": "python",
   "nbconvert_exporter": "python",
   "pygments_lexer": "ipython2",
   "version": "2.7.15"
  }
 },
 "nbformat": 4,
 "nbformat_minor": 2
}
