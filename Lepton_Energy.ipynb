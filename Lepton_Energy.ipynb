{
 "cells": [
  {
   "cell_type": "markdown",
   "metadata": {},
   "source": [
    "# A pyROOT example for plotting the distribution of Lepton energies"
   ]
  },
  {
   "cell_type": "markdown",
   "metadata": {},
   "source": [
    "In order to run this Jupyter Notebook on SLAC machines, fisrt [set up the environment](https://github.com/shawfdong/atlas/blob/master/pyROOT_example.ipynb).\n",
    "\n",
    "We are going to use the ATLAS dataset, `data16_13TeV.00311481.physics_Main.merge.DAOD_SUSY15.f758_m1616_r8669_p3185_tid11525262_00`, for this example. I've selected the 30 largest files in the dataset, the total size of which is 86.867 GB.\n",
    "\n",
    "```\n",
    "| data16_13TeV | DAOD_SUSY15.11525262._000021.pool.root.1 | 2.726 GB\n",
    "| data16_13TeV | DAOD_SUSY15.11525262._000022.pool.root.1 | 2.655 GB\n",
    "| data16_13TeV | DAOD_SUSY15.11525262._000023.pool.root.1 | 2.612 GB\n",
    "| data16_13TeV | DAOD_SUSY15.11525262._000024.pool.root.1 | 2.593 GB\n",
    "| data16_13TeV | DAOD_SUSY15.11525262._000025.pool.root.1 | 2.731 GB\n",
    "| data16_13TeV | DAOD_SUSY15.11525262._000029.pool.root.1 | 2.388 GB\n",
    "| data16_13TeV | DAOD_SUSY15.11525262._000031.pool.root.1 | 2.793 GB\n",
    "| data16_13TeV | DAOD_SUSY15.11525262._000032.pool.root.1 | 3.012 GB\n",
    "| data16_13TeV | DAOD_SUSY15.11525262._000033.pool.root.1 | 3.032 GB\n",
    "| data16_13TeV | DAOD_SUSY15.11525262._000047.pool.root.1 | 3.029 GB\n",
    "| data16_13TeV | DAOD_SUSY15.11525262._000048.pool.root.1 | 3.149 GB\n",
    "| data16_13TeV | DAOD_SUSY15.11525262._000049.pool.root.1 | 2.936 GB\n",
    "| data16_13TeV | DAOD_SUSY15.11525262._000050.pool.root.1 | 3.042 GB\n",
    "| data16_13TeV | DAOD_SUSY15.11525262._000051.pool.root.1 | 3.092 GB\n",
    "| data16_13TeV | DAOD_SUSY15.11525262._000052.pool.root.1 | 3.113 GB\n",
    "| data16_13TeV | DAOD_SUSY15.11525262._000053.pool.root.1 | 3.013 GB\n",
    "| data16_13TeV | DAOD_SUSY15.11525262._000054.pool.root.1 | 3.242 GB\n",
    "| data16_13TeV | DAOD_SUSY15.11525262._000055.pool.root.1 | 3.113 GB\n",
    "| data16_13TeV | DAOD_SUSY15.11525262._000056.pool.root.1 | 2.329 GB\n",
    "| data16_13TeV | DAOD_SUSY15.11525262._000057.pool.root.1 | 2.454 GB\n",
    "| data16_13TeV | DAOD_SUSY15.11525262._000058.pool.root.1 | 2.579 GB\n",
    "| data16_13TeV | DAOD_SUSY15.11525262._000059.pool.root.1 | 3.154 GB\n",
    "| data16_13TeV | DAOD_SUSY15.11525262._000060.pool.root.1 | 3.079 GB\n",
    "| data16_13TeV | DAOD_SUSY15.11525262._000061.pool.root.1 | 2.978 GB\n",
    "| data16_13TeV | DAOD_SUSY15.11525262._000062.pool.root.1 | 3.036 GB\n",
    "| data16_13TeV | DAOD_SUSY15.11525262._000063.pool.root.1 | 2.975 GB\n",
    "| data16_13TeV | DAOD_SUSY15.11525262._000064.pool.root.1 | 2.964 GB\n",
    "| data16_13TeV | DAOD_SUSY15.11525262._000065.pool.root.1 | 2.885 GB\n",
    "| data16_13TeV | DAOD_SUSY15.11525262._000066.pool.root.1 | 3.058 GB\n",
    "| data16_13TeV | DAOD_SUSY15.11525262._000067.pool.root.1 | 3.105 GB\n",
    "```"
   ]
  },
  {
   "cell_type": "code",
   "execution_count": 1,
   "metadata": {},
   "outputs": [
    {
     "name": "stdout",
     "output_type": "stream",
     "text": [
      "Welcome to JupyROOT 6.16/00\n"
     ]
    }
   ],
   "source": [
    "# Set up ROOT and RootCore\n",
    "import ROOT"
   ]
  },
  {
   "cell_type": "code",
   "execution_count": 2,
   "metadata": {},
   "outputs": [
    {
     "data": {
      "text/plain": [
       "<ROOT.xAOD::TReturnCode object at 0x4b6fe50>"
      ]
     },
     "execution_count": 2,
     "metadata": {},
     "output_type": "execute_result"
    },
    {
     "name": "stdout",
     "output_type": "stream",
     "text": [
      "xAOD::Init                INFO    Environment initialised for data access\n"
     ]
    }
   ],
   "source": [
    "# Initialize the xAOD infrastructure\n",
    "ROOT.xAOD.Init()"
   ]
  },
  {
   "cell_type": "code",
   "execution_count": 3,
   "metadata": {},
   "outputs": [],
   "source": [
    "data16_13TeV = ('7f/94/DAOD_SUSY15.11525262._000021.pool.root.1',\n",
    "                'a9/ff/DAOD_SUSY15.11525262._000022.pool.root.1',\n",
    "                '8c/4d/DAOD_SUSY15.11525262._000023.pool.root.1',\n",
    "                'bf/74/DAOD_SUSY15.11525262._000024.pool.root.1',\n",
    "                '52/00/DAOD_SUSY15.11525262._000025.pool.root.1',\n",
    "                '38/61/DAOD_SUSY15.11525262._000029.pool.root.1',\n",
    "                '1c/b8/DAOD_SUSY15.11525262._000031.pool.root.1',\n",
    "                'f2/26/DAOD_SUSY15.11525262._000032.pool.root.1',\n",
    "                'd5/7e/DAOD_SUSY15.11525262._000033.pool.root.1',\n",
    "                '1e/a1/DAOD_SUSY15.11525262._000047.pool.root.1',\n",
    "                '85/62/DAOD_SUSY15.11525262._000048.pool.root.1',\n",
    "                'c1/ef/DAOD_SUSY15.11525262._000049.pool.root.1',\n",
    "                'f2/a4/DAOD_SUSY15.11525262._000050.pool.root.1',\n",
    "                '00/ac/DAOD_SUSY15.11525262._000051.pool.root.1',\n",
    "                '62/9d/DAOD_SUSY15.11525262._000052.pool.root.1',\n",
    "                '48/ac/DAOD_SUSY15.11525262._000053.pool.root.1',\n",
    "                'a6/c6/DAOD_SUSY15.11525262._000054.pool.root.1',\n",
    "                '30/71/DAOD_SUSY15.11525262._000055.pool.root.1',\n",
    "                '5a/a8/DAOD_SUSY15.11525262._000056.pool.root.1',\n",
    "                '5a/36/DAOD_SUSY15.11525262._000057.pool.root.1',\n",
    "                'c6/d3/DAOD_SUSY15.11525262._000058.pool.root.1',\n",
    "                'fa/06/DAOD_SUSY15.11525262._000059.pool.root.1',\n",
    "                'b1/de/DAOD_SUSY15.11525262._000060.pool.root.1',\n",
    "                '16/ee/DAOD_SUSY15.11525262._000061.pool.root.1',\n",
    "                '91/99/DAOD_SUSY15.11525262._000062.pool.root.1',\n",
    "                '70/72/DAOD_SUSY15.11525262._000063.pool.root.1',\n",
    "                'f7/0d/DAOD_SUSY15.11525262._000064.pool.root.1',\n",
    "                'ca/35/DAOD_SUSY15.11525262._000065.pool.root.1',\n",
    "                '90/3a/DAOD_SUSY15.11525262._000066.pool.root.1',\n",
    "                'ca/5e/DAOD_SUSY15.11525262._000067.pool.root.1')\n",
    "rootPath = 'root://atlrdr1//xrootd/atlas/atlaslocalgroupdisk/rucio/data16_13TeV/'"
   ]
  },
  {
   "cell_type": "code",
   "execution_count": 4,
   "metadata": {},
   "outputs": [],
   "source": [
    "fOut = ROOT.TFile(\"LeptonEnergy.root\", \"RECREATE\")\n",
    "\n",
    "# Make histograms for storage\n",
    "electronEnergy = ROOT.TH1D(\"electronEnergy\", \"Electron Energy\", 250, 0., 2500.)\n",
    "muonEnergy = ROOT.TH1D(\"muonEnergy\", \"Muon Energy\", 250, 0., 2500.)"
   ]
  },
  {
   "cell_type": "code",
   "execution_count": 5,
   "metadata": {},
   "outputs": [
    {
     "name": "stdout",
     "output_type": "stream",
     "text": [
      "Processing file 7f/94/DAOD_SUSY15.11525262._000021.pool.root.1 ...\n",
      "    151316 electrons, average min max energy = 61.620515 0.005278 20545.883418 GeV\n",
      "    147435 muons, average min max energy = 520.143849 0.136594 6763254.318371 GeV\n",
      "Processing file a9/ff/DAOD_SUSY15.11525262._000022.pool.root.1 ...\n",
      "    152806 electrons, average min max energy = 60.806956 0.001240 18179.939661 GeV\n",
      "    142789 muons, average min max energy = 2209.568296 0.119441 225212679.558119 GeV\n",
      "Processing file 8c/4d/DAOD_SUSY15.11525262._000023.pool.root.1 ...\n",
      "    151405 electrons, average min max energy = 61.748839 0.006463 32590.750100 GeV\n",
      "    140977 muons, average min max energy = 515.417632 0.155762 10020976.284824 GeV\n",
      "Processing file bf/74/DAOD_SUSY15.11525262._000024.pool.root.1 ...\n",
      "    151896 electrons, average min max energy = 62.496987 0.004230 32958.175966 GeV\n",
      "    139045 muons, average min max energy = 480.544047 0.130628 6009035.964487 GeV\n",
      "Processing file 52/00/DAOD_SUSY15.11525262._000025.pool.root.1 ...\n",
      "    150939 electrons, average min max energy = 59.140060 0.007211 21158.883152 GeV\n",
      "    148801 muons, average min max energy = 545.294114 0.159101 8415684.468454 GeV\n",
      "Processing file 38/61/DAOD_SUSY15.11525262._000029.pool.root.1 ...\n",
      "    157182 electrons, average min max energy = 66.560281 0.001930 4278.884474 GeV\n",
      "    121056 muons, average min max energy = 463.430315 0.182799 3414688.250239 GeV\n",
      "Processing file 1c/b8/DAOD_SUSY15.11525262._000031.pool.root.1 ...\n",
      "    144508 electrons, average min max energy = 52.608526 0.009474 6155.404872 GeV\n",
      "    155526 muons, average min max energy = 631.513454 0.241565 14449568.897185 GeV\n",
      "Processing file f2/26/DAOD_SUSY15.11525262._000032.pool.root.1 ...\n",
      "    145259 electrons, average min max energy = 47.843342 0.000645 48595.975986 GeV\n",
      "    169782 muons, average min max energy = 607.679907 0.144716 4839005.470453 GeV\n",
      "Processing file d5/7e/DAOD_SUSY15.11525262._000033.pool.root.1 ...\n",
      "    145512 electrons, average min max energy = 47.078744 0.011182 29450.634404 GeV\n",
      "    170290 muons, average min max energy = 964.247192 0.120305 67576050.518594 GeV\n",
      "Processing file 1e/a1/DAOD_SUSY15.11525262._000047.pool.root.1 ...\n",
      "    152906 electrons, average min max energy = 53.741567 0.002629 26103.361390 GeV\n",
      "    166169 muons, average min max energy = 1894.411423 0.134298 235472881.983964 GeV\n",
      "Processing file 85/62/DAOD_SUSY15.11525262._000048.pool.root.1 ...\n",
      "    156223 electrons, average min max energy = 50.475932 0.001618 52972.727770 GeV\n",
      "    171290 muons, average min max energy = 452.826824 0.151902 2667252.017310 GeV\n",
      "Processing file c1/ef/DAOD_SUSY15.11525262._000049.pool.root.1 ...\n",
      "    152198 electrons, average min max energy = 54.905658 0.004825 33249.711166 GeV\n",
      "    159797 muons, average min max energy = 498.255550 0.140364 6220489.800141 GeV\n",
      "Processing file f2/a4/DAOD_SUSY15.11525262._000050.pool.root.1 ...\n",
      "    147559 electrons, average min max energy = 48.931228 0.002289 58931.879053 GeV\n",
      "    169603 muons, average min max energy = 552.090660 0.130783 7124203.254927 GeV\n",
      "Processing file 00/ac/DAOD_SUSY15.11525262._000051.pool.root.1 ...\n",
      "    144600 electrons, average min max energy = 45.382586 0.000769 39820.872352 GeV\n",
      "    173120 muons, average min max energy = 1056.673096 0.152729 75996167.200556 GeV\n",
      "Processing file 62/9d/DAOD_SUSY15.11525262._000052.pool.root.1 ...\n",
      "    151776 electrons, average min max energy = 49.094712 0.009434 34109.734034 GeV\n",
      "    173528 muons, average min max energy = 736.887016 0.118234 26109242.139065 GeV\n",
      "Processing file 48/ac/DAOD_SUSY15.11525262._000053.pool.root.1 ...\n",
      "    144447 electrons, average min max energy = 47.161071 0.007309 22591.008127 GeV\n",
      "    169733 muons, average min max energy = 828.029369 0.127049 23784228.324040 GeV\n",
      "Processing file a6/c6/DAOD_SUSY15.11525262._000054.pool.root.1 ...\n",
      "    152969 electrons, average min max energy = 48.111711 0.001925 23709.132017 GeV\n",
      "    179503 muons, average min max energy = 1245.505881 0.210296 80404506.711350 GeV\n",
      "Processing file 30/71/DAOD_SUSY15.11525262._000055.pool.root.1 ...\n",
      "    152834 electrons, average min max energy = 50.364783 0.003056 37503.980814 GeV\n",
      "    171927 muons, average min max energy = 511.921275 0.144082 5642667.429873 GeV\n",
      "Processing file 5a/a8/DAOD_SUSY15.11525262._000056.pool.root.1 ...\n",
      "    157480 electrons, average min max energy = 68.973162 0.009183 21094.598379 GeV\n",
      "    118001 muons, average min max energy = 382.059829 0.186586 2877010.125363 GeV\n",
      "Processing file 5a/36/DAOD_SUSY15.11525262._000057.pool.root.1 ...\n",
      "    157460 electrons, average min max energy = 65.531557 0.001545 3179.841129 GeV\n",
      "    126034 muons, average min max energy = 496.869640 0.124520 10131782.256178 GeV\n",
      "Processing file c6/d3/DAOD_SUSY15.11525262._000058.pool.root.1 ...\n",
      "    152231 electrons, average min max energy = 61.236338 0.001323 3356.010594 GeV\n",
      "    136455 muons, average min max energy = 409.421470 0.180998 2925506.843954 GeV\n",
      "Processing file fa/06/DAOD_SUSY15.11525262._000059.pool.root.1 ...\n",
      "    148657 electrons, average min max energy = 45.488621 0.003068 3528.077295 GeV\n",
      "    176618 muons, average min max energy = 626.910194 0.165483 10803020.431981 GeV\n",
      "Processing file b1/de/DAOD_SUSY15.11525262._000060.pool.root.1 ...\n",
      "    147888 electrons, average min max energy = 49.918468 0.002881 31255.972909 GeV\n",
      "    172588 muons, average min max energy = 527.620792 0.119190 8461692.822405 GeV\n",
      "Processing file 16/ee/DAOD_SUSY15.11525262._000061.pool.root.1 ...\n",
      "    145917 electrons, average min max energy = nan 0.000870 29688.308561 GeV\n",
      "    166053 muons, average min max energy = 650.312348 0.226033 19298007.054793 GeV\n",
      "Processing file 91/99/DAOD_SUSY15.11525262._000062.pool.root.1 ...\n",
      "    145919 electrons, average min max energy = 47.547303 0.003786 50526.353566 GeV\n",
      "    170560 muons, average min max energy = 551.919958 0.135348 5366146.947404 GeV\n",
      "Processing file 70/72/DAOD_SUSY15.11525262._000063.pool.root.1 ...\n",
      "    146607 electrons, average min max energy = nan 0.000808 6688.211493 GeV\n",
      "    167220 muons, average min max energy = 493.052793 0.121253 4379561.669051 GeV\n",
      "Processing file f7/0d/DAOD_SUSY15.11525262._000064.pool.root.1 ...\n",
      "    146298 electrons, average min max energy = 51.780858 0.001432 23953.549553 GeV\n",
      "    165714 muons, average min max energy = 823.273216 0.138973 20020227.097207 GeV\n",
      "Processing file ca/35/DAOD_SUSY15.11525262._000065.pool.root.1 ...\n",
      "    143865 electrons, average min max energy = 50.234414 0.001835 16006.773099 GeV\n",
      "    162024 muons, average min max energy = 1572.861256 0.147836 162166822.081921 GeV\n",
      "Processing file 90/3a/DAOD_SUSY15.11525262._000066.pool.root.1 ...\n",
      "    147749 electrons, average min max energy = 48.873922 0.003772 28893.456293 GeV\n",
      "    170420 muons, average min max energy = 732.257093 0.157488 33495604.768274 GeV\n",
      "Processing file ca/5e/DAOD_SUSY15.11525262._000067.pool.root.1 ...\n",
      "    149355 electrons, average min max energy = 46.568489 0.001229 47042.120156 GeV\n",
      "    173236 muons, average min max energy = 603.617954 0.123216 15354956.980447 GeV\n",
      "CPU times: user 16min 12s, sys: 58.7 s, total: 17min 11s\n",
      "Wall time: 20min 50s\n",
      "xAOD::MakeTransientTree   INFO    Created transient tree \"CollectionTree\" in ROOT's common memory\n",
      "xAOD::MakeTransientTree   INFO    Created transient tree \"CollectionTree\" in ROOT's common memory\n",
      "xAOD::MakeTransientTree   INFO    Created transient tree \"CollectionTree\" in ROOT's common memory\n",
      "xAOD::MakeTransientTree   INFO    Created transient tree \"CollectionTree\" in ROOT's common memory\n",
      "xAOD::MakeTransientTree   INFO    Created transient tree \"CollectionTree\" in ROOT's common memory\n",
      "xAOD::MakeTransientTree   INFO    Created transient tree \"CollectionTree\" in ROOT's common memory\n",
      "xAOD::MakeTransientTree   INFO    Created transient tree \"CollectionTree\" in ROOT's common memory\n",
      "xAOD::MakeTransientTree   INFO    Created transient tree \"CollectionTree\" in ROOT's common memory\n",
      "xAOD::MakeTransientTree   INFO    Created transient tree \"CollectionTree\" in ROOT's common memory\n",
      "xAOD::MakeTransientTree   INFO    Created transient tree \"CollectionTree\" in ROOT's common memory\n",
      "xAOD::MakeTransientTree   INFO    Created transient tree \"CollectionTree\" in ROOT's common memory\n",
      "xAOD::MakeTransientTree   INFO    Created transient tree \"CollectionTree\" in ROOT's common memory\n",
      "xAOD::MakeTransientTree   INFO    Created transient tree \"CollectionTree\" in ROOT's common memory\n",
      "xAOD::MakeTransientTree   INFO    Created transient tree \"CollectionTree\" in ROOT's common memory\n",
      "xAOD::MakeTransientTree   INFO    Created transient tree \"CollectionTree\" in ROOT's common memory\n",
      "xAOD::MakeTransientTree   INFO    Created transient tree \"CollectionTree\" in ROOT's common memory\n",
      "xAOD::MakeTransientTree   INFO    Created transient tree \"CollectionTree\" in ROOT's common memory\n",
      "xAOD::MakeTransientTree   INFO    Created transient tree \"CollectionTree\" in ROOT's common memory\n",
      "xAOD::MakeTransientTree   INFO    Created transient tree \"CollectionTree\" in ROOT's common memory\n",
      "xAOD::MakeTransientTree   INFO    Created transient tree \"CollectionTree\" in ROOT's common memory\n",
      "xAOD::MakeTransientTree   INFO    Created transient tree \"CollectionTree\" in ROOT's common memory\n",
      "xAOD::MakeTransientTree   INFO    Created transient tree \"CollectionTree\" in ROOT's common memory\n",
      "xAOD::MakeTransientTree   INFO    Created transient tree \"CollectionTree\" in ROOT's common memory\n",
      "xAOD::MakeTransientTree   INFO    Created transient tree \"CollectionTree\" in ROOT's common memory\n",
      "xAOD::MakeTransientTree   INFO    Created transient tree \"CollectionTree\" in ROOT's common memory\n",
      "xAOD::MakeTransientTree   INFO    Created transient tree \"CollectionTree\" in ROOT's common memory\n",
      "xAOD::MakeTransientTree   INFO    Created transient tree \"CollectionTree\" in ROOT's common memory\n",
      "xAOD::MakeTransientTree   INFO    Created transient tree \"CollectionTree\" in ROOT's common memory\n",
      "xAOD::MakeTransientTree   INFO    Created transient tree \"CollectionTree\" in ROOT's common memory\n",
      "xAOD::MakeTransientTree   INFO    Created transient tree \"CollectionTree\" in ROOT's common memory\n"
     ]
    }
   ],
   "source": [
    "%%time\n",
    "treeName = 'CollectionTree'\n",
    "for daod in data16_13TeV:\n",
    "    fileName = rootPath + daod\n",
    "    print( 'Processing file %s ...' % daod )\n",
    "    f = ROOT.TFile.Open(fileName)\n",
    "    # Make the \"transient tree\"\n",
    "    t = ROOT.xAOD.MakeTransientTree(f, treeName)\n",
    "\n",
    "    numLeptons = [0, 0]\n",
    "    totalEnergy = [0., 0.]\n",
    "    minEnergy = [10000., 10000.]\n",
    "    maxEnergy = [0., 0.]\n",
    "    for entry in xrange(t.GetEntries()):\n",
    "        t.GetEntry(entry)\n",
    "\n",
    "        for electron in t.Electrons:\n",
    "            numLeptons[0] += 1\n",
    "            eGev = electron.e()/1000.\n",
    "            totalEnergy[0] += eGev\n",
    "            electronEnergy.Fill( eGev )\n",
    "            if minEnergy[0] > eGev: \n",
    "                minEnergy[0] = eGev\n",
    "            if maxEnergy[0] < eGev:\n",
    "                maxEnergy[0] = eGev\n",
    "\n",
    "        for muon in t.Muons:\n",
    "            numLeptons[1] += 1\n",
    "            mGev = muon.e()/1000.\n",
    "            totalEnergy[1] += mGev\n",
    "            muonEnergy.Fill( mGev )\n",
    "            if minEnergy[1] > mGev: \n",
    "                minEnergy[1] = mGev\n",
    "            if maxEnergy[1] < mGev:\n",
    "                maxEnergy[1] = mGev\n",
    "\n",
    "    # Print some information\n",
    "    print('    %d electrons, average min max energy = %f %f %f GeV' %\n",
    "          (numLeptons[0], totalEnergy[0]/numLeptons[0], minEnergy[0], maxEnergy[0]))\n",
    "    print('    %d muons, average min max energy = %f %f %f GeV' % \n",
    "          (numLeptons[1], totalEnergy[1]/numLeptons[1], minEnergy[1], maxEnergy[1]))\n",
    "            \n",
    "    f.Close()"
   ]
  },
  {
   "cell_type": "code",
   "execution_count": 6,
   "metadata": {},
   "outputs": [],
   "source": [
    "# Save the output file\n",
    "fOut.Write()\n",
    "fOut.Close()"
   ]
  },
  {
   "cell_type": "code",
   "execution_count": 7,
   "metadata": {},
   "outputs": [],
   "source": [
    "# Read the output file\n",
    "fOut = ROOT.TFile(\"LeptonEnergy.root\",\"READ\")\n",
    "electronEnergy = fOut.Get(\"electronEnergy\")\n",
    "muonEnergy = fOut.Get(\"muonEnergy\")"
   ]
  },
  {
   "cell_type": "code",
   "execution_count": 8,
   "metadata": {},
   "outputs": [],
   "source": [
    "hs = ROOT.THStack(\"hs\",\"Stacked Lepton Energy Histograms\")\n",
    "electronEnergy.SetFillColor(ROOT.kBlue)\n",
    "hs.Add(electronEnergy)\n",
    "muonEnergy.SetFillColor(ROOT.kGreen)\n",
    "hs.Add(muonEnergy)"
   ]
  },
  {
   "cell_type": "code",
   "execution_count": 9,
   "metadata": {},
   "outputs": [
    {
     "data": {
      "image/png": "[encoded data removed]",
      "text/plain": [
       "<IPython.core.display.Image object>"
      ]
     },
     "metadata": {},
     "output_type": "display_data"
    }
   ],
   "source": [
    "# Display the histogram\n",
    "# %jsroot on\n",
    "c = ROOT.TCanvas(\"Canvas 1\",\"Canvas 1\",800,600)\n",
    "c.SetLogy()\n",
    "hs.Draw()\n",
    "hs.GetXaxis().SetTitle(\"Lepton Energy (GeV)\")\n",
    "ROOT.gPad.SetGrid(1,0)\n",
    "ROOT.gPad.BuildLegend(0.75,0.75,0.95,0.95,\"\")\n",
    "c.Draw()"
   ]
  },
  {
   "cell_type": "code",
   "execution_count": 10,
   "metadata": {},
   "outputs": [],
   "source": [
    "fOut.Close()"
   ]
  }
 ],
 "metadata": {
  "kernelspec": {
   "display_name": "Python 2",
   "language": "python",
   "name": "python2"
  },
  "language_info": {
   "codemirror_mode": {
    "name": "ipython",
    "version": 2
   },
   "file_extension": ".py",
   "mimetype": "text/x-python",
   "name": "python",
   "nbconvert_exporter": "python",
   "pygments_lexer": "ipython2",
   "version": "2.7.15"
  }
 },
 "nbformat": 4,
 "nbformat_minor": 2
}
